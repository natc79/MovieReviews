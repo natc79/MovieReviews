{
 "cells": [
  {
   "cell_type": "markdown",
   "metadata": {},
   "source": [
    "# Movie Reviews\n",
    "\n",
    "The analysis uses data contains review scores of various movies for four different movie review services. The data was collected by FiveThirtyEight https://fivethirtyeight.com/features/fandango-movies-ratings/ and can be used to highlight some of the biases that exist in movie review particularly by Fandango."
   ]
  },
  {
   "cell_type": "code",
   "execution_count": 20,
   "metadata": {
    "collapsed": false
   },
   "outputs": [
    {
     "data": {
      "text/html": [
       "<div>\n",
       "<table border=\"1\" class=\"dataframe\">\n",
       "  <thead>\n",
       "    <tr style=\"text-align: right;\">\n",
       "      <th></th>\n",
       "      <th>FILM</th>\n",
       "      <th>RottenTomatoes</th>\n",
       "      <th>RottenTomatoes_User</th>\n",
       "      <th>Metacritic</th>\n",
       "      <th>Metacritic_User</th>\n",
       "      <th>IMDB</th>\n",
       "      <th>Fandango_Stars</th>\n",
       "      <th>Fandango_Ratingvalue</th>\n",
       "      <th>RT_norm</th>\n",
       "      <th>RT_user_norm</th>\n",
       "      <th>...</th>\n",
       "      <th>IMDB_norm</th>\n",
       "      <th>RT_norm_round</th>\n",
       "      <th>RT_user_norm_round</th>\n",
       "      <th>Metacritic_norm_round</th>\n",
       "      <th>Metacritic_user_norm_round</th>\n",
       "      <th>IMDB_norm_round</th>\n",
       "      <th>Metacritic_user_vote_count</th>\n",
       "      <th>IMDB_user_vote_count</th>\n",
       "      <th>Fandango_votes</th>\n",
       "      <th>Fandango_Difference</th>\n",
       "    </tr>\n",
       "  </thead>\n",
       "  <tbody>\n",
       "    <tr>\n",
       "      <th>0</th>\n",
       "      <td>Avengers: Age of Ultron (2015)</td>\n",
       "      <td>74</td>\n",
       "      <td>86</td>\n",
       "      <td>66</td>\n",
       "      <td>7.1</td>\n",
       "      <td>7.8</td>\n",
       "      <td>5.0</td>\n",
       "      <td>4.5</td>\n",
       "      <td>3.70</td>\n",
       "      <td>4.3</td>\n",
       "      <td>...</td>\n",
       "      <td>3.90</td>\n",
       "      <td>3.5</td>\n",
       "      <td>4.5</td>\n",
       "      <td>3.5</td>\n",
       "      <td>3.5</td>\n",
       "      <td>4.0</td>\n",
       "      <td>1330</td>\n",
       "      <td>271107</td>\n",
       "      <td>14846</td>\n",
       "      <td>0.5</td>\n",
       "    </tr>\n",
       "    <tr>\n",
       "      <th>1</th>\n",
       "      <td>Cinderella (2015)</td>\n",
       "      <td>85</td>\n",
       "      <td>80</td>\n",
       "      <td>67</td>\n",
       "      <td>7.5</td>\n",
       "      <td>7.1</td>\n",
       "      <td>5.0</td>\n",
       "      <td>4.5</td>\n",
       "      <td>4.25</td>\n",
       "      <td>4.0</td>\n",
       "      <td>...</td>\n",
       "      <td>3.55</td>\n",
       "      <td>4.5</td>\n",
       "      <td>4.0</td>\n",
       "      <td>3.5</td>\n",
       "      <td>4.0</td>\n",
       "      <td>3.5</td>\n",
       "      <td>249</td>\n",
       "      <td>65709</td>\n",
       "      <td>12640</td>\n",
       "      <td>0.5</td>\n",
       "    </tr>\n",
       "    <tr>\n",
       "      <th>2</th>\n",
       "      <td>Ant-Man (2015)</td>\n",
       "      <td>80</td>\n",
       "      <td>90</td>\n",
       "      <td>64</td>\n",
       "      <td>8.1</td>\n",
       "      <td>7.8</td>\n",
       "      <td>5.0</td>\n",
       "      <td>4.5</td>\n",
       "      <td>4.00</td>\n",
       "      <td>4.5</td>\n",
       "      <td>...</td>\n",
       "      <td>3.90</td>\n",
       "      <td>4.0</td>\n",
       "      <td>4.5</td>\n",
       "      <td>3.0</td>\n",
       "      <td>4.0</td>\n",
       "      <td>4.0</td>\n",
       "      <td>627</td>\n",
       "      <td>103660</td>\n",
       "      <td>12055</td>\n",
       "      <td>0.5</td>\n",
       "    </tr>\n",
       "    <tr>\n",
       "      <th>3</th>\n",
       "      <td>Do You Believe? (2015)</td>\n",
       "      <td>18</td>\n",
       "      <td>84</td>\n",
       "      <td>22</td>\n",
       "      <td>4.7</td>\n",
       "      <td>5.4</td>\n",
       "      <td>5.0</td>\n",
       "      <td>4.5</td>\n",
       "      <td>0.90</td>\n",
       "      <td>4.2</td>\n",
       "      <td>...</td>\n",
       "      <td>2.70</td>\n",
       "      <td>1.0</td>\n",
       "      <td>4.0</td>\n",
       "      <td>1.0</td>\n",
       "      <td>2.5</td>\n",
       "      <td>2.5</td>\n",
       "      <td>31</td>\n",
       "      <td>3136</td>\n",
       "      <td>1793</td>\n",
       "      <td>0.5</td>\n",
       "    </tr>\n",
       "    <tr>\n",
       "      <th>4</th>\n",
       "      <td>Hot Tub Time Machine 2 (2015)</td>\n",
       "      <td>14</td>\n",
       "      <td>28</td>\n",
       "      <td>29</td>\n",
       "      <td>3.4</td>\n",
       "      <td>5.1</td>\n",
       "      <td>3.5</td>\n",
       "      <td>3.0</td>\n",
       "      <td>0.70</td>\n",
       "      <td>1.4</td>\n",
       "      <td>...</td>\n",
       "      <td>2.55</td>\n",
       "      <td>0.5</td>\n",
       "      <td>1.5</td>\n",
       "      <td>1.5</td>\n",
       "      <td>1.5</td>\n",
       "      <td>2.5</td>\n",
       "      <td>88</td>\n",
       "      <td>19560</td>\n",
       "      <td>1021</td>\n",
       "      <td>0.5</td>\n",
       "    </tr>\n",
       "  </tbody>\n",
       "</table>\n",
       "<p>5 rows × 22 columns</p>\n",
       "</div>"
      ],
      "text/plain": [
       "                             FILM  RottenTomatoes  RottenTomatoes_User  \\\n",
       "0  Avengers: Age of Ultron (2015)              74                   86   \n",
       "1               Cinderella (2015)              85                   80   \n",
       "2                  Ant-Man (2015)              80                   90   \n",
       "3          Do You Believe? (2015)              18                   84   \n",
       "4   Hot Tub Time Machine 2 (2015)              14                   28   \n",
       "\n",
       "   Metacritic  Metacritic_User  IMDB  Fandango_Stars  Fandango_Ratingvalue  \\\n",
       "0          66              7.1   7.8             5.0                   4.5   \n",
       "1          67              7.5   7.1             5.0                   4.5   \n",
       "2          64              8.1   7.8             5.0                   4.5   \n",
       "3          22              4.7   5.4             5.0                   4.5   \n",
       "4          29              3.4   5.1             3.5                   3.0   \n",
       "\n",
       "   RT_norm  RT_user_norm         ...           IMDB_norm  RT_norm_round  \\\n",
       "0     3.70           4.3         ...                3.90            3.5   \n",
       "1     4.25           4.0         ...                3.55            4.5   \n",
       "2     4.00           4.5         ...                3.90            4.0   \n",
       "3     0.90           4.2         ...                2.70            1.0   \n",
       "4     0.70           1.4         ...                2.55            0.5   \n",
       "\n",
       "   RT_user_norm_round  Metacritic_norm_round  Metacritic_user_norm_round  \\\n",
       "0                 4.5                    3.5                         3.5   \n",
       "1                 4.0                    3.5                         4.0   \n",
       "2                 4.5                    3.0                         4.0   \n",
       "3                 4.0                    1.0                         2.5   \n",
       "4                 1.5                    1.5                         1.5   \n",
       "\n",
       "   IMDB_norm_round  Metacritic_user_vote_count  IMDB_user_vote_count  \\\n",
       "0              4.0                        1330                271107   \n",
       "1              3.5                         249                 65709   \n",
       "2              4.0                         627                103660   \n",
       "3              2.5                          31                  3136   \n",
       "4              2.5                          88                 19560   \n",
       "\n",
       "   Fandango_votes  Fandango_Difference  \n",
       "0           14846                  0.5  \n",
       "1           12640                  0.5  \n",
       "2           12055                  0.5  \n",
       "3            1793                  0.5  \n",
       "4            1021                  0.5  \n",
       "\n",
       "[5 rows x 22 columns]"
      ]
     },
     "execution_count": 20,
     "metadata": {},
     "output_type": "execute_result"
    }
   ],
   "source": [
    "import pandas as pd\n",
    "\n",
    "movies = pd.read_csv(\"fandango_score_comparison.csv\")\n",
    "movies.head(5)"
   ]
  },
  {
   "cell_type": "code",
   "execution_count": 21,
   "metadata": {
    "collapsed": false
   },
   "outputs": [
    {
     "data": {
      "image/png": "[encoded data removed]",
      "text/plain": [
       "<matplotlib.figure.Figure at 0x1a86b6d8dd8>"
      ]
     },
     "metadata": {},
     "output_type": "display_data"
    },
    {
     "data": {
      "image/png": "[encoded data removed]",
      "text/plain": [
       "<matplotlib.figure.Figure at 0x1a86e705748>"
      ]
     },
     "metadata": {},
     "output_type": "display_data"
    }
   ],
   "source": [
    "import matplotlib.pyplot as plt\n",
    "%matplotlib inline\n",
    "\n",
    "movies[\"Fandango_Stars\"].hist(bins=5)\n",
    "plt.title(\"Fandango Stars Distribution\")\n",
    "plt.xlim(0,5.0)\n",
    "plt.show()\n",
    "\n",
    "movies[\"Metacritic_norm_round\"].hist(bins=5)\n",
    "plt.title(\"Metacritic Normalized Scores Distribution\")\n",
    "plt.xlim(0,5.0)\n",
    "plt.show()"
   ]
  },
  {
   "cell_type": "markdown",
   "metadata": {},
   "source": [
    "### Comparison of Fandango and Metacritic Distributions\n",
    "\n",
    "Fandango stars are skewed heavily toward higher scores with almost no scores occuring below 3.  In contrast, metacritic tends to have more reviews on the lower end.  Even still it is somewhat to the right and scores do not follow a perfect normal distribution around the mark of 2.5."
   ]
  },
  {
   "cell_type": "code",
   "execution_count": 22,
   "metadata": {
    "collapsed": false
   },
   "outputs": [
    {
     "name": "stdout",
     "output_type": "stream",
     "text": [
      "4.09 2.97\n",
      "4.0 3.0\n",
      "0.54 0.99\n"
     ]
    }
   ],
   "source": [
    "print(round(movies[\"Fandango_Stars\"].mean(),2), round(movies[\"Metacritic_norm_round\"].mean(),2))\n",
    "print(movies[\"Fandango_Stars\"].median(),movies[\"Metacritic_norm_round\"].median())\n",
    "print(round(movies[\"Fandango_Stars\"].std(),2),round(movies[\"Metacritic_norm_round\"].std(),2))\n",
    "\n"
   ]
  },
  {
   "cell_type": "markdown",
   "metadata": {},
   "source": [
    "### Additional comparisons between Fandango and Metacritic Reviews\n",
    "\n",
    "What we can see is that the average score of the Fandango score is about 20% higher\n",
    "at 4.08 compared to 3.0 in Metacritic.  Moreover the median score is a 4 compared to 3 in Metacritic.\n",
    "In addition the standard deviation is much smaller indicating there is not\n",
    "much variance from mean at 0.54 compared to 0.99 in Metacritic.  One of the reasons why the median score of Fandango is lower than the mean score of Fandango is simply that there is still an upward skewness in the numbers so the deviation toward 5 is higher than the deviation in numbers that are below 4 even though if we split in the sample in two the mid-point has a value of 4.\n",
    "\n",
    "Metacritic uses reviews from top critics to come up with scores.  Fandango appears to use review scores\n",
    "that are a combination of critics, movie fans and parents.  The usage of movie fans may itself\n",
    "skew results upward if this is appeared to be a selected sample in the first place\n",
    "that appeals only to a particular set of the population."
   ]
  },
  {
   "cell_type": "code",
   "execution_count": 23,
   "metadata": {
    "collapsed": false
   },
   "outputs": [
    {
     "data": {
      "image/png": "[encoded data removed]",
      "text/plain": [
       "<matplotlib.figure.Figure at 0x1a86f26a710>"
      ]
     },
     "metadata": {},
     "output_type": "display_data"
    },
    {
     "name": "stdout",
     "output_type": "stream",
     "text": [
      "                        FILM  RottenTomatoes  RottenTomatoes_User  Metacritic  \\\n",
      "3     Do You Believe? (2015)              18                   84          22   \n",
      "85         Little Boy (2015)              20                   81          30   \n",
      "47              Annie (2014)              27                   61          33   \n",
      "19             Pixels (2015)              17                   54          27   \n",
      "134  The Longest Ride (2015)              31                   73          33   \n",
      "\n",
      "     Metacritic_User  IMDB  Fandango_Stars  Fandango_Ratingvalue  RT_norm  \\\n",
      "3                4.7   5.4             5.0                   4.5     0.90   \n",
      "85               5.9   7.4             4.5                   4.3     1.00   \n",
      "47               4.8   5.2             4.5                   4.2     1.35   \n",
      "19               5.3   5.6             4.5                   4.1     0.85   \n",
      "134              4.8   7.2             4.5                   4.5     1.55   \n",
      "\n",
      "     RT_user_norm   ...     RT_norm_round  RT_user_norm_round  \\\n",
      "3            4.20   ...               1.0                 4.0   \n",
      "85           4.05   ...               1.0                 4.0   \n",
      "47           3.05   ...               1.5                 3.0   \n",
      "19           2.70   ...               1.0                 2.5   \n",
      "134          3.65   ...               1.5                 3.5   \n",
      "\n",
      "     Metacritic_norm_round  Metacritic_user_norm_round  IMDB_norm_round  \\\n",
      "3                      1.0                         2.5              2.5   \n",
      "85                     1.5                         3.0              3.5   \n",
      "47                     1.5                         2.5              2.5   \n",
      "19                     1.5                         2.5              3.0   \n",
      "134                    1.5                         2.5              3.5   \n",
      "\n",
      "     Metacritic_user_vote_count  IMDB_user_vote_count  Fandango_votes  \\\n",
      "3                            31                  3136            1793   \n",
      "85                           38                  5927             811   \n",
      "47                          108                 19222            6835   \n",
      "19                          246                 19521            3886   \n",
      "134                          49                 25214            2603   \n",
      "\n",
      "     Fandango_Difference  fm_diff  \n",
      "3                    0.5      4.0  \n",
      "85                   0.2      3.0  \n",
      "47                   0.3      3.0  \n",
      "19                   0.4      3.0  \n",
      "134                  0.0      3.0  \n",
      "\n",
      "[5 rows x 23 columns]\n"
     ]
    }
   ],
   "source": [
    "import numpy as np\n",
    "\n",
    "plt.scatter(x=movies[\"Metacritic_norm_round\"], y=movies[\"Fandango_Stars\"])\n",
    "plt.title(\"Correlation between Metacritic and Fandango Ratings\")\n",
    "plt.xlim(0,5.0)\n",
    "plt.ylim(0,5.0)\n",
    "plt.xlabel(\"Metacritic\")\n",
    "plt.ylabel(\"Fandango\")\n",
    "plt.show()\n",
    "\n",
    "#sort movies based on the biggest differences and print out top 5\n",
    "movies[\"fm_diff\"] = movies[\"Fandango_Stars\"]-movies[\"Metacritic_norm_round\"]\n",
    "movies[\"fm_diff\"] = np.absolute(movies[\"fm_diff\"])\n",
    "movies = movies.sort_values(\"fm_diff\", ascending=False)\n",
    "print(movies.head(5))"
   ]
  },
  {
   "cell_type": "code",
   "execution_count": 28,
   "metadata": {
    "collapsed": false
   },
   "outputs": [
    {
     "name": "stdout",
     "output_type": "stream",
     "text": [
      "R-value: 0.18\n",
      "P-value: 0.03\n",
      "Intercept value: 3.799773918899418\n",
      "Slope value: 0.09731107797392856\n",
      "Predicted Fandango Score (given metacritic rating of 3): 4.09\n"
     ]
    }
   ],
   "source": [
    "#Calculate the r-value and correlation coefficient\n",
    "import scipy.stats as stats\n",
    "\n",
    "rvalue, pvalue = stats.pearsonr(movies[\"Fandango_Stars\"],movies[\"Metacritic_norm_round\"])\n",
    "#The linear regression takes metacritic to predict fandango\n",
    "prval = stats.linregress(movies[\"Metacritic_norm_round\"],movies[\"Fandango_Stars\"])\n",
    "\n",
    "print(\"R-value: {}\".format(round(rvalue,2)))\n",
    "print(\"P-value: {}\".format(round(pvalue,2)))\n",
    "print(\"Intercept value: {}\".format(prval.intercept))\n",
    "print(\"Slope value: {}\".format(prval.slope))\n",
    "pred_3 = 3*prval.slope + prval.intercept\n",
    "print(\"Predicted Fandango Score (given metacritic rating of 3): {}\".format(round(pred_3,2)))"
   ]
  },
  {
   "cell_type": "code",
   "execution_count": 29,
   "metadata": {
    "collapsed": false
   },
   "outputs": [
    {
     "name": "stdout",
     "output_type": "stream",
     "text": [
      "Predicted Fandango Score (given metacritic rating of 1): 3.9\n",
      "Predicted Fandango Score (given metacritic rating of 5): 4.29\n"
     ]
    }
   ],
   "source": [
    "#Calculate predictions of Fandango scores based on linear regression\n",
    "pred_1 = 1*prval.slope + prval.intercept\n",
    "pred_5 = 5*prval.slope + prval.intercept\n",
    "\n",
    "print(\"Predicted Fandango Score (given metacritic rating of 1): {}\".format(round(pred_1,2)))\n",
    "print(\"Predicted Fandango Score (given metacritic rating of 5): {}\".format(round(pred_5,2)))"
   ]
  },
  {
   "cell_type": "code",
   "execution_count": 31,
   "metadata": {
    "collapsed": false
   },
   "outputs": [
    {
     "data": {
      "image/png": "[encoded data removed]",
      "text/plain": [
       "<matplotlib.figure.Figure at 0x1a86e12a0f0>"
      ]
     },
     "metadata": {},
     "output_type": "display_data"
    }
   ],
   "source": [
    "plt.scatter(x=movies[\"Metacritic_norm_round\"], y=movies[\"Fandango_Stars\"])\n",
    "plt.title(\"Correlation between Metacritic and Fandango Ratings\")\n",
    "plt.xlim(0,5.0)\n",
    "plt.ylim(0,5.0)\n",
    "plt.xlabel(\"Metacritic\")\n",
    "plt.ylabel(\"Fandango\")\n",
    "x = np.linspace(0, 5)\n",
    "plt.plot(x,3.8+0.097*x,color=\"red\")\n",
    "plt.show()\n",
    "\n"
   ]
  },
  {
   "cell_type": "markdown",
   "metadata": {
    "collapsed": true
   },
   "source": [
    "## Conclusions\n",
    "\n",
    "Fandango scores are significantly higher than the metacritic review ratings.  It is suggested this bias comes because Fandango's business interests are directly tied to movie sales as opposed to validity in developing scores that are unbiased."
   ]
  },
  {
   "cell_type": "code",
   "execution_count": null,
   "metadata": {
    "collapsed": true
   },
   "outputs": [],
   "source": []
  }
 ],
 "metadata": {
  "kernelspec": {
   "display_name": "Python 3",
   "language": "python",
   "name": "python3"
  },
  "language_info": {
   "codemirror_mode": {
    "name": "ipython",
    "version": 3
   },
   "file_extension": ".py",
   "mimetype": "text/x-python",
   "name": "python",
   "nbconvert_exporter": "python",
   "pygments_lexer": "ipython3",
   "version": "3.6.0"
  }
 },
 "nbformat": 4,
 "nbformat_minor": 0
}
